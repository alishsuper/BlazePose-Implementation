{
 "cells": [
  {
   "cell_type": "code",
   "execution_count": 1,
   "metadata": {},
   "outputs": [],
   "source": [
    "import numpy as np\n",
    "import tensorflow as tf\n",
    "from scipy.io import loadmat"
   ]
  },
  {
   "cell_type": "code",
   "execution_count": 2,
   "metadata": {},
   "outputs": [],
   "source": [
    "num_joints = 14\n",
    "batch_size = 646"
   ]
  },
  {
   "cell_type": "code",
   "execution_count": 3,
   "metadata": {},
   "outputs": [],
   "source": [
    "# guassian generation\n",
    "def getGaussianMap(joint = (16, 16), heat_size = 128, sigma = 2):\n",
    "    # by default, the function returns a gaussian map with range [0, 1] of typr float32\n",
    "    heatmap = np.zeros((heat_size, heat_size),dtype=np.float32)\n",
    "    tmp_size = sigma * 3\n",
    "    ul = [int(joint[0] - tmp_size), int(joint[1] - tmp_size)]\n",
    "    br = [int(joint[0] + tmp_size + 1), int(joint[1] + tmp_size + 1)]\n",
    "    size = 2 * tmp_size + 1\n",
    "    x = np.arange(0, size, 1, np.float32)\n",
    "    y = x[:, np.newaxis]\n",
    "    x0 = y0 = size // 2\n",
    "    g = np.exp(-((x - x0) ** 2 + (y - y0) ** 2) / (2 * (sigma ** 2)))\n",
    "    g.shape\n",
    "    # usable gaussian range\n",
    "    g_x = max(0, -ul[0]), min(br[0], heat_size) - ul[0]\n",
    "    g_y = max(0, -ul[1]), min(br[1], heat_size) - ul[1]\n",
    "    # image range\n",
    "    img_x = max(0, ul[0]), min(br[0], heat_size)\n",
    "    img_y = max(0, ul[1]), min(br[1], heat_size)\n",
    "    heatmap[img_y[0]:img_y[1], img_x[0]:img_x[1]] = g[g_y[0]:g_y[1], g_x[0]:g_x[1]]\n",
    "    return heatmap"
   ]
  },
  {
   "cell_type": "code",
   "execution_count": 4,
   "metadata": {},
   "outputs": [],
   "source": [
    "# read annotations\n",
    "annotations = loadmat(\"joints.mat\")\n",
    "label = annotations[\"joints\"].swapaxes(0, 2)    # shape (3, 14, 2000) -> (2000, 14, 3)"
   ]
  },
  {
   "cell_type": "code",
   "execution_count": 8,
   "metadata": {
    "scrolled": true
   },
   "outputs": [
    {
     "data": {
      "text/plain": [
       "array([[120.12745241, 122.67616262,   0.        ],\n",
       "       [136.33061847,  98.37141354,   0.        ],\n",
       "       [105.46744503, 101.26483605,   0.        ],\n",
       "       [ 97.55875683,  96.63536004,   0.        ],\n",
       "       [ 72.86821808, 110.90957775,   0.        ],\n",
       "       [ 37.7613583 , 120.55431945,   0.        ],\n",
       "       [ 75.95453543,  10.79715891,   0.        ],\n",
       "       [ 91.38612215,  32.78716999,   0.        ],\n",
       "       [ 97.75165167,  55.93455006,   0.        ],\n",
       "       [107.5892882 ,  50.72638955,   0.        ],\n",
       "       [115.88376606,  46.67559803,   0.        ],\n",
       "       [119.54876791,  38.95980467,   0.        ],\n",
       "       [104.11718119,  48.79744121,   0.        ],\n",
       "       [ 93.70086015,  34.71611833,   0.        ]])"
      ]
     },
     "execution_count": 8,
     "metadata": {},
     "output_type": "execute_result"
    }
   ],
   "source": [
    "# label[0, :, 0] = (256 / img_shape[1])\n",
    "label[1997]"
   ]
  },
  {
   "cell_type": "code",
   "execution_count": null,
   "metadata": {},
   "outputs": [],
   "source": [
    "data = np.zeros([2000, 256, 256, 3])\n",
    "heatmap_set = np.zeros((2000, 128, 128, num_joints), dtype=np.float32)\n",
    "print(\"Reading dataset...\")\n",
    "for i in range(2000):\n",
    "    FileName = \"./images/im%04d.jpg\" % (i + 1)\n",
    "    img = tf.io.read_file(FileName)\n",
    "    img = tf.image.decode_image(img)\n",
    "    img_shape = img.shape\n",
    "    label[i, :, 0] *= (256 / img_shape[1])\n",
    "    label[i, :, 1] *= (256 / img_shape[0])    \n",
    "    data[i] = tf.image.resize(img, [256, 256])\n",
    "    # generate heatmap set\n",
    "    for j in range(num_joints):\n",
    "        _joint = (label[i, j, 0:2] // 2).astype(np.uint16)\n",
    "        heatmap_set[i, :, :, j] = getGaussianMap(joint = _joint, heat_size = 128, sigma = 4)\n",
    "    # print status\n",
    "    if not i%(2000//80):\n",
    "        print(\">\", end='')"
   ]
  },
  {
   "cell_type": "code",
   "execution_count": null,
   "metadata": {},
   "outputs": [],
   "source": []
  }
 ],
 "metadata": {
  "kernelspec": {
   "display_name": "Python 3",
   "language": "python",
   "name": "python3"
  },
  "language_info": {
   "codemirror_mode": {
    "name": "ipython",
    "version": 3
   },
   "file_extension": ".py",
   "mimetype": "text/x-python",
   "name": "python",
   "nbconvert_exporter": "python",
   "pygments_lexer": "ipython3",
   "version": "3.7.0"
  }
 },
 "nbformat": 4,
 "nbformat_minor": 4
}
