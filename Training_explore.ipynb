{
 "cells": [
  {
   "cell_type": "code",
   "execution_count": 1,
   "metadata": {},
   "outputs": [],
   "source": [
    "import tensorflow as tf\n",
    "from modelcopy import BlazePose\n",
    "from config import best_pre_train"
   ]
  },
  {
   "cell_type": "code",
   "execution_count": 2,
   "metadata": {},
   "outputs": [
    {
     "name": "stdout",
     "output_type": "stream",
     "text": [
      "Reading dataset...\n",
      ">>>>>>>>>>>>>>>>>>>>>>>>>>>>>>>>>>>>>>>>>>>>>>>>>>>>>>>>>>>>>>>>>>>>>>>>>>>>>>>>\n",
      "Generating training and testing data batches...\n",
      "Done.\n"
     ]
    }
   ],
   "source": [
    "# from data import train_dataset, test_dataset\n",
    "# loss_func = tf.keras.losses.BinaryCrossentropy()\n",
    "from data import finetune_train as train_dataset\n",
    "from data import finetune_validation as test_dataset\n",
    "loss_func = tf.keras.losses.MeanSquaredError()"
   ]
  },
  {
   "cell_type": "code",
   "execution_count": 3,
   "metadata": {},
   "outputs": [],
   "source": [
    "model = BlazePose()\n",
    "optimizer = tf.keras.optimizers.Adam(learning_rate=0.001)"
   ]
  },
  {
   "cell_type": "code",
   "execution_count": 4,
   "metadata": {},
   "outputs": [],
   "source": [
    "# checkpoint_path_heatmap = \"checkpoints_heatmap/cp-{epoch:04d}.ckpt\"\n",
    "# model.load_weights(checkpoint_path_heatmap.format(epoch=best_pre_train))"
   ]
  },
  {
   "cell_type": "code",
   "execution_count": 5,
   "metadata": {},
   "outputs": [],
   "source": [
    "def grad(model, inputs, targets):\n",
    "    with tf.GradientTape() as tape:\n",
    "        loss_value = loss_func(y_true=targets, y_pred=model(inputs))\n",
    "    return loss_value, tape.gradient(loss_value, model.trainable_variables)"
   ]
  },
  {
   "cell_type": "code",
   "execution_count": 6,
   "metadata": {},
   "outputs": [],
   "source": [
    "# for layer in model.layers[16:24]:\n",
    "#     layer.trainable = False\n",
    "for layer in model.layers[0:16]:\n",
    "    layer.trainable = False"
   ]
  },
  {
   "cell_type": "code",
   "execution_count": 7,
   "metadata": {},
   "outputs": [],
   "source": [
    "epoch_loss_avg = tf.keras.metrics.Mean()\n",
    "epoch_accuracy = tf.keras.metrics.MeanSquaredError()"
   ]
  },
  {
   "cell_type": "code",
   "execution_count": 8,
   "metadata": {
    "scrolled": true
   },
   "outputs": [
    {
     "name": "stdout",
     "output_type": "stream",
     "text": [
      "WARNING:tensorflow:Layer blaze_pose is casting an input tensor from dtype float64 to the layer's dtype of float32, which is new behavior in TensorFlow 2.  The layer has dtype float32 because its dtype defaults to floatx.\n",
      "\n",
      "If you intended to run this layer in float32, you can safely ignore this warning. If in doubt, this warning is likely only an issue if you are porting a TensorFlow 1.X model to TensorFlow 2.\n",
      "\n",
      "To change all layers to have dtype float64 by default, call `tf.keras.backend.set_floatx('float64')`. To change just this layer, pass dtype='float64' to the layer constructor. If you are the author of this layer, you can disable autocasting by passing autocast=False to the base Layer constructor.\n",
      "\n",
      "(64, 14, 3)\n",
      "(64, 14, 3)\n",
      "(64, 14, 3)\n",
      "(64, 14, 3)\n",
      "(64, 14, 3)\n",
      "(64, 14, 3)\n",
      "(64, 14, 3)\n",
      "(64, 14, 3)\n",
      "(64, 14, 3)\n",
      "(64, 14, 3)\n",
      "(64, 14, 3)\n",
      "(64, 14, 3)\n",
      "(64, 14, 3)\n",
      "(64, 14, 3)\n",
      "(64, 14, 3)\n",
      "(64, 14, 3)\n",
      "(64, 14, 3)\n",
      "(64, 14, 3)\n",
      "(64, 14, 3)\n",
      "(64, 14, 3)\n",
      "(64, 14, 3)\n",
      "(64, 14, 3)\n",
      "(64, 14, 3)\n",
      "(64, 14, 3)\n",
      "(64, 14, 3)\n",
      "(64, 14, 3)\n",
      "(64, 14, 3)\n",
      "(64, 14, 3)\n",
      "(64, 14, 3)\n",
      "(64, 14, 3)\n",
      "(40, 14, 3)\n",
      "(40, 14, 3)\n"
     ]
    }
   ],
   "source": [
    "# Training loop\n",
    "for x, y in train_dataset:\n",
    "    # Optimize\n",
    "    loss_value, grads = grad(model, x, y)\n",
    "    optimizer.apply_gradients(zip(grads, model.trainable_variables))\n",
    "\n",
    "    # Add current batch loss\n",
    "    epoch_loss_avg(loss_value)\n",
    "    # Calculate error from Ground truth\n",
    "    epoch_accuracy(y, model(x))"
   ]
  },
  {
   "cell_type": "code",
   "execution_count": 9,
   "metadata": {
    "scrolled": true
   },
   "outputs": [
    {
     "name": "stdout",
     "output_type": "stream",
     "text": [
      "Model: \"blaze_pose\"\n",
      "_________________________________________________________________\n",
      "Layer (type)                 Output Shape              Param #   \n",
      "=================================================================\n",
      "conv2d (Conv2D)              multiple                  672       \n",
      "_________________________________________________________________\n",
      "sequential (Sequential)      (None, 128, 128, 24)      840       \n",
      "_________________________________________________________________\n",
      "sequential_1 (Sequential)    (None, 128, 128, 24)      840       \n",
      "_________________________________________________________________\n",
      "blaze_block (BlazeBlock)     multiple                  11136     \n",
      "_________________________________________________________________\n",
      "blaze_block_1 (BlazeBlock)   multiple                  50976     \n",
      "_________________________________________________________________\n",
      "blaze_block_2 (BlazeBlock)   multiple                  233088    \n",
      "_________________________________________________________________\n",
      "blaze_block_3 (BlazeBlock)   multiple                  629760    \n",
      "_________________________________________________________________\n",
      "sequential_28 (Sequential)   (None, 16, 16, 48)        16752     \n",
      "_________________________________________________________________\n",
      "sequential_29 (Sequential)   (None, 16, 16, 48)        11184     \n",
      "_________________________________________________________________\n",
      "up_sampling2d_1 (UpSampling2 multiple                  0         \n",
      "_________________________________________________________________\n",
      "sequential_30 (Sequential)   (None, 32, 32, 48)        5616      \n",
      "_________________________________________________________________\n",
      "up_sampling2d_2 (UpSampling2 multiple                  0         \n",
      "_________________________________________________________________\n",
      "sequential_31 (Sequential)   (None, 64, 64, 48)        2832      \n",
      "_________________________________________________________________\n",
      "sequential_32 (Sequential)   (None, 128, 128, 8)       872       \n",
      "_________________________________________________________________\n",
      "sequential_33 (Sequential)   (None, 128, 128, 8)       440       \n",
      "_________________________________________________________________\n",
      "sequential_34 (Sequential)   (None, 128, 128, 14)      1174      \n",
      "_________________________________________________________________\n",
      "blaze_block_4 (BlazeBlock)   multiple                  50976     \n",
      "_________________________________________________________________\n",
      "sequential_41 (Sequential)   (None, 32, 32, 96)        10272     \n",
      "_________________________________________________________________\n",
      "blaze_block_5 (BlazeBlock)   multiple                  233088    \n",
      "_________________________________________________________________\n",
      "sequential_49 (Sequential)   (None, 16, 16, 192)       38976     \n",
      "_________________________________________________________________\n",
      "blaze_block_6 (BlazeBlock)   multiple                  629760    \n",
      "_________________________________________________________________\n",
      "sequential_58 (Sequential)   (None, 8, 8, 288)         86112     \n",
      "_________________________________________________________________\n",
      "sequential_75 (Sequential)   (None, 2, 2, 288)         1377792   \n",
      "_________________________________________________________________\n",
      "sequential_76 (Sequential)   (None, 14, 2)             8092      \n",
      "_________________________________________________________________\n",
      "sequential_77 (Sequential)   (None, 14, 1)             4046      \n",
      "=================================================================\n",
      "Total params: 3,405,296\n",
      "Trainable params: 2,439,114\n",
      "Non-trainable params: 966,182\n",
      "_________________________________________________________________\n"
     ]
    }
   ],
   "source": [
    "model.summary()"
   ]
  },
  {
   "cell_type": "code",
   "execution_count": 10,
   "metadata": {},
   "outputs": [],
   "source": [
    "# a = tf.keras.models.Sequential([\n",
    "#             tf.keras.layers.GlobalAveragePooling2D(),\n",
    "#             # shape = (1, 1, 1, 288)\n",
    "#             tf.keras.layers.Dense(units=2*14, activation=None),\n",
    "#             # tf.keras.layers.Reshape((num_joints, 2))\n",
    "#         ])"
   ]
  },
  {
   "cell_type": "code",
   "execution_count": 11,
   "metadata": {},
   "outputs": [],
   "source": [
    "# import numpy as np\n",
    "# x = np.arange(1152).reshape(1, 2, 2, 288)"
   ]
  },
  {
   "cell_type": "code",
   "execution_count": 12,
   "metadata": {},
   "outputs": [],
   "source": [
    "# coordinates = a(x)"
   ]
  },
  {
   "cell_type": "code",
   "execution_count": 13,
   "metadata": {},
   "outputs": [],
   "source": [
    "# coordinates.shape"
   ]
  },
  {
   "cell_type": "code",
   "execution_count": 14,
   "metadata": {},
   "outputs": [
    {
     "name": "stdout",
     "output_type": "stream",
     "text": [
      "<tensorflow.python.keras.layers.convolutional.Conv2D object at 0x000001DCA827A400>\n",
      "<tensorflow.python.keras.engine.sequential.Sequential object at 0x000001DCA827AEB8>\n",
      "<tensorflow.python.keras.engine.sequential.Sequential object at 0x000001DCA82B78D0>\n",
      "<layers.BlazeBlock object at 0x000001DCA82B7B38>\n",
      "<layers.BlazeBlock object at 0x000001DCA82DEF60>\n",
      "<layers.BlazeBlock object at 0x000001DCA8336DD8>\n",
      "<layers.BlazeBlock object at 0x000001DCA84D8470>\n",
      "<tensorflow.python.keras.engine.sequential.Sequential object at 0x000001DCA8652048>\n",
      "<tensorflow.python.keras.engine.sequential.Sequential object at 0x000001DCA8652A20>\n",
      "<tensorflow.python.keras.layers.convolutional.UpSampling2D object at 0x000001DCA8652470>\n",
      "<tensorflow.python.keras.engine.sequential.Sequential object at 0x000001DCA8665588>\n",
      "<tensorflow.python.keras.layers.convolutional.UpSampling2D object at 0x000001DCA8665898>\n",
      "<tensorflow.python.keras.engine.sequential.Sequential object at 0x000001DCA86690F0>\n",
      "<tensorflow.python.keras.engine.sequential.Sequential object at 0x000001DCA8669C18>\n",
      "<tensorflow.python.keras.engine.sequential.Sequential object at 0x000001DCA8675630>\n",
      "<tensorflow.python.keras.engine.sequential.Sequential object at 0x000001DCA867C2E8>\n",
      "<layers.BlazeBlock object at 0x000001DCA867C438>\n",
      "<tensorflow.python.keras.engine.sequential.Sequential object at 0x000001DC9C84CAC8>\n",
      "<layers.BlazeBlock object at 0x000001DC9C84C7B8>\n",
      "<tensorflow.python.keras.engine.sequential.Sequential object at 0x000001DCA04DC668>\n",
      "<layers.BlazeBlock object at 0x000001DCA04DC1D0>\n",
      "<tensorflow.python.keras.engine.sequential.Sequential object at 0x000001DCA86759E8>\n",
      "<tensorflow.python.keras.engine.sequential.Sequential object at 0x000001DCA88B1780>\n",
      "<tensorflow.python.keras.engine.sequential.Sequential object at 0x000001DCA88BD128>\n",
      "<tensorflow.python.keras.engine.sequential.Sequential object at 0x000001DCA88BD9E8>\n"
     ]
    }
   ],
   "source": [
    "for layer in model.layers:\n",
    "    print(layer)"
   ]
  },
  {
   "cell_type": "code",
   "execution_count": null,
   "metadata": {},
   "outputs": [],
   "source": []
  }
 ],
 "metadata": {
  "kernelspec": {
   "display_name": "Python 3",
   "language": "python",
   "name": "python3"
  },
  "language_info": {
   "codemirror_mode": {
    "name": "ipython",
    "version": 3
   },
   "file_extension": ".py",
   "mimetype": "text/x-python",
   "name": "python",
   "nbconvert_exporter": "python",
   "pygments_lexer": "ipython3",
   "version": "3.7.0"
  }
 },
 "nbformat": 4,
 "nbformat_minor": 4
}
