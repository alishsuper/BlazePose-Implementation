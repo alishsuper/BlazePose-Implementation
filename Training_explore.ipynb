{
 "cells": [
  {
   "cell_type": "code",
   "execution_count": 1,
   "metadata": {},
   "outputs": [],
   "source": [
    "import tensorflow as tf\n",
    "from model import BlazePose\n",
    "from config import best_pre_train"
   ]
  },
  {
   "cell_type": "code",
   "execution_count": 2,
   "metadata": {},
   "outputs": [
    {
     "name": "stdout",
     "output_type": "stream",
     "text": [
      "Reading dataset...\n",
      ">>>>>>>>>>>>>>>>>>>>>>>>>>>>>>>>>>>>>>>>>>>>>>>>>>>>>>>>>>>>>>>>>>>>>>>>>>>>>>>>\n",
      "Generating training and testing data batches...\n",
      "Done.\n"
     ]
    }
   ],
   "source": [
    "from data import train_dataset, test_dataset\n",
    "loss_func = tf.keras.losses.BinaryCrossentropy()\n",
    "# from data import finetune_train as train_dataset\n",
    "# from data import finetune_validation as test_dataset\n",
    "# loss_func = tf.keras.losses.MeanSquaredError()"
   ]
  },
  {
   "cell_type": "code",
   "execution_count": 3,
   "metadata": {},
   "outputs": [],
   "source": [
    "model = BlazePose()\n",
    "optimizer = tf.keras.optimizers.Adam(learning_rate=0.001)"
   ]
  },
  {
   "cell_type": "code",
   "execution_count": 4,
   "metadata": {},
   "outputs": [],
   "source": [
    "# checkpoint_path_heatmap = \"checkpoints_heatmap/cp-{epoch:04d}.ckpt\"\n",
    "# model.load_weights(checkpoint_path_heatmap.format(epoch=best_pre_train))"
   ]
  },
  {
   "cell_type": "code",
   "execution_count": 16,
   "metadata": {},
   "outputs": [],
   "source": [
    "def grad(model, inputs, targets):\n",
    "    with tf.GradientTape() as tape:\n",
    "        loss_value = loss_func(y_true=targets, y_pred=model(inputs))\n",
    "    return loss_value, tape.gradient(loss_value, model.trainable_variables, unconnected_gradients=tf.UnconnectedGradients.ZERO)"
   ]
  },
  {
   "cell_type": "code",
   "execution_count": 17,
   "metadata": {},
   "outputs": [],
   "source": [
    "for layer in model.layers[16:24]:\n",
    "    layer.trainable = False\n",
    "# for layer in model.layers[0:16]:\n",
    "#     layer.trainable = False"
   ]
  },
  {
   "cell_type": "code",
   "execution_count": 18,
   "metadata": {},
   "outputs": [],
   "source": [
    "epoch_loss_avg = tf.keras.metrics.Mean()\n",
    "epoch_accuracy = tf.keras.metrics.MeanSquaredError()"
   ]
  },
  {
   "cell_type": "code",
   "execution_count": 19,
   "metadata": {
    "scrolled": true
   },
   "outputs": [
    {
     "name": "stdout",
     "output_type": "stream",
     "text": [
      "(64, 128, 128, 14)\n",
      "(64, 128, 128, 14)\n",
      "(64, 128, 128, 14)\n",
      "(64, 128, 128, 14)\n",
      "(64, 128, 128, 14)\n",
      "(64, 128, 128, 14)\n",
      "(64, 128, 128, 14)\n",
      "(64, 128, 128, 14)\n",
      "(64, 128, 128, 14)\n",
      "(64, 128, 128, 14)\n",
      "(64, 128, 128, 14)\n",
      "(64, 128, 128, 14)\n",
      "(64, 128, 128, 14)\n",
      "(64, 128, 128, 14)\n",
      "(64, 128, 128, 14)\n",
      "(40, 128, 128, 14)\n"
     ]
    }
   ],
   "source": [
    "# Training loop\n",
    "for x, y in train_dataset:\n",
    "    # Optimize\n",
    "    print(y.shape)\n",
    "#     print(tf.expand_dims(y[:, :, 2], axis=2).shape)\n",
    "#     print(tf.concat([tf.expand_dims(y[:, :, 2], axis=2), tf.expand_dims(y[:, :, 2], axis=2)], axis=2).shape)\n",
    "#     loss_value, grads = grad(model, x, (y[:, :, 0:2], tf.concat([tf.expand_dims(y[:, :, 2], axis=2), tf.expand_dims(y[:, :, 2], axis=2)], axis=2)))\n",
    "    loss_value, grads = grad(model, x, y)\n",
    "    optimizer.apply_gradients(zip(grads, model.trainable_variables))\n",
    "\n",
    "    # Add current batch loss\n",
    "    epoch_loss_avg(loss_value)\n",
    "    # Calculate error from Ground truth\n",
    "#     epoch_accuracy((y[:, :, 0:2], tf.concat([tf.expand_dims(y[:, :, 2], axis=2), tf.expand_dims(y[:, :, 2], axis=2)], axis=2)), model(x))\n",
    "    epoch_accuracy(y, model(x))"
   ]
  },
  {
   "cell_type": "code",
   "execution_count": 15,
   "metadata": {
    "scrolled": true
   },
   "outputs": [
    {
     "name": "stdout",
     "output_type": "stream",
     "text": [
      "Model: \"blaze_pose\"\n",
      "_________________________________________________________________\n",
      "Layer (type)                 Output Shape              Param #   \n",
      "=================================================================\n",
      "conv2d (Conv2D)              multiple                  672       \n",
      "_________________________________________________________________\n",
      "sequential (Sequential)      (None, 128, 128, 24)      840       \n",
      "_________________________________________________________________\n",
      "sequential_1 (Sequential)    (None, 128, 128, 24)      840       \n",
      "_________________________________________________________________\n",
      "blaze_block (BlazeBlock)     multiple                  11136     \n",
      "_________________________________________________________________\n",
      "blaze_block_1 (BlazeBlock)   multiple                  50976     \n",
      "_________________________________________________________________\n",
      "blaze_block_2 (BlazeBlock)   multiple                  233088    \n",
      "_________________________________________________________________\n",
      "blaze_block_3 (BlazeBlock)   multiple                  629760    \n",
      "_________________________________________________________________\n",
      "sequential_28 (Sequential)   (None, 16, 16, 48)        16752     \n",
      "_________________________________________________________________\n",
      "sequential_29 (Sequential)   (None, 16, 16, 48)        11184     \n",
      "_________________________________________________________________\n",
      "up_sampling2d_1 (UpSampling2 multiple                  0         \n",
      "_________________________________________________________________\n",
      "sequential_30 (Sequential)   (None, 32, 32, 48)        5616      \n",
      "_________________________________________________________________\n",
      "up_sampling2d_2 (UpSampling2 multiple                  0         \n",
      "_________________________________________________________________\n",
      "sequential_31 (Sequential)   (None, 64, 64, 48)        2832      \n",
      "_________________________________________________________________\n",
      "sequential_32 (Sequential)   (None, 128, 128, 8)       872       \n",
      "_________________________________________________________________\n",
      "sequential_33 (Sequential)   (None, 128, 128, 8)       440       \n",
      "_________________________________________________________________\n",
      "sequential_34 (Sequential)   (None, 128, 128, 14)      1174      \n",
      "_________________________________________________________________\n",
      "blaze_block_4 (BlazeBlock)   multiple                  50976     \n",
      "_________________________________________________________________\n",
      "sequential_41 (Sequential)   (None, 32, 32, 96)        10272     \n",
      "_________________________________________________________________\n",
      "blaze_block_5 (BlazeBlock)   multiple                  233088    \n",
      "_________________________________________________________________\n",
      "sequential_49 (Sequential)   (None, 16, 16, 192)       38976     \n",
      "_________________________________________________________________\n",
      "blaze_block_6 (BlazeBlock)   multiple                  629760    \n",
      "_________________________________________________________________\n",
      "sequential_58 (Sequential)   (None, 8, 8, 288)         86112     \n",
      "_________________________________________________________________\n",
      "sequential_75 (Sequential)   (None, 2, 2, 288)         1377792   \n",
      "_________________________________________________________________\n",
      "sequential_76 (Sequential)   (None, 14, 2)             8092      \n",
      "_________________________________________________________________\n",
      "sequential_77 (Sequential)   (None, 14, 1)             4046      \n",
      "=================================================================\n",
      "Total params: 3,405,296\n",
      "Trainable params: 970,228\n",
      "Non-trainable params: 2,435,068\n",
      "_________________________________________________________________\n"
     ]
    }
   ],
   "source": [
    "model.summary()"
   ]
  },
  {
   "cell_type": "code",
   "execution_count": 10,
   "metadata": {},
   "outputs": [],
   "source": [
    "# a = tf.keras.models.Sequential([\n",
    "#             tf.keras.layers.GlobalAveragePooling2D(),\n",
    "#             # shape = (1, 1, 1, 288)\n",
    "#             tf.keras.layers.Dense(units=2*14, activation=None),\n",
    "#             # tf.keras.layers.Reshape((num_joints, 2))\n",
    "#         ])"
   ]
  },
  {
   "cell_type": "code",
   "execution_count": 11,
   "metadata": {},
   "outputs": [],
   "source": [
    "# import numpy as np\n",
    "# x = np.arange(1152).reshape(1, 2, 2, 288)"
   ]
  },
  {
   "cell_type": "code",
   "execution_count": 12,
   "metadata": {},
   "outputs": [],
   "source": [
    "# coordinates = a(x)"
   ]
  },
  {
   "cell_type": "code",
   "execution_count": 13,
   "metadata": {},
   "outputs": [],
   "source": [
    "# coordinates.shape"
   ]
  },
  {
   "cell_type": "code",
   "execution_count": 14,
   "metadata": {},
   "outputs": [
    {
     "name": "stdout",
     "output_type": "stream",
     "text": [
      "<tensorflow.python.keras.layers.convolutional.Conv2D object at 0x00000185A7304518>\n",
      "<tensorflow.python.keras.engine.sequential.Sequential object at 0x00000185A7304FD0>\n",
      "<tensorflow.python.keras.engine.sequential.Sequential object at 0x00000185A73859B0>\n",
      "<layers.BlazeBlock object at 0x00000185A7385C50>\n",
      "<layers.BlazeBlock object at 0x00000185A73B8080>\n",
      "<layers.BlazeBlock object at 0x00000185A73D6E48>\n",
      "<layers.BlazeBlock object at 0x00000185A74464E0>\n",
      "<tensorflow.python.keras.engine.sequential.Sequential object at 0x00000185A74810F0>\n",
      "<tensorflow.python.keras.engine.sequential.Sequential object at 0x00000185A7481AC8>\n",
      "<tensorflow.python.keras.layers.convolutional.UpSampling2D object at 0x00000185A74814E0>\n",
      "<tensorflow.python.keras.engine.sequential.Sequential object at 0x00000185A7492630>\n",
      "<tensorflow.python.keras.layers.convolutional.UpSampling2D object at 0x00000185A7492940>\n",
      "<tensorflow.python.keras.engine.sequential.Sequential object at 0x00000185A749D198>\n",
      "<tensorflow.python.keras.engine.sequential.Sequential object at 0x00000185A749DCC0>\n",
      "<tensorflow.python.keras.engine.sequential.Sequential object at 0x00000185A74A46D8>\n",
      "<tensorflow.python.keras.engine.sequential.Sequential object at 0x00000185A74AB358>\n",
      "<layers.BlazeBlock object at 0x00000185A74AB4A8>\n",
      "<tensorflow.python.keras.engine.sequential.Sequential object at 0x000001859B90CA90>\n",
      "<layers.BlazeBlock object at 0x000001859B90C780>\n",
      "<tensorflow.python.keras.engine.sequential.Sequential object at 0x000001859F59A630>\n",
      "<layers.BlazeBlock object at 0x000001859F59A198>\n",
      "<tensorflow.python.keras.engine.sequential.Sequential object at 0x00000185A74A4F60>\n",
      "<tensorflow.python.keras.engine.sequential.Sequential object at 0x00000185A7961748>\n",
      "<tensorflow.python.keras.engine.sequential.Sequential object at 0x00000185A796D0B8>\n",
      "<tensorflow.python.keras.engine.sequential.Sequential object at 0x00000185A796D940>\n"
     ]
    }
   ],
   "source": [
    "for layer in model.layers:\n",
    "    print(layer)"
   ]
  },
  {
   "cell_type": "code",
   "execution_count": null,
   "metadata": {},
   "outputs": [],
   "source": []
  }
 ],
 "metadata": {
  "kernelspec": {
   "display_name": "Python 3",
   "language": "python",
   "name": "python3"
  },
  "language_info": {
   "codemirror_mode": {
    "name": "ipython",
    "version": 3
   },
   "file_extension": ".py",
   "mimetype": "text/x-python",
   "name": "python",
   "nbconvert_exporter": "python",
   "pygments_lexer": "ipython3",
   "version": "3.7.0"
  }
 },
 "nbformat": 4,
 "nbformat_minor": 4
}
